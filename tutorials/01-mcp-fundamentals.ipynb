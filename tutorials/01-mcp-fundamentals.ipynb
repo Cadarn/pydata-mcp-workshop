{
 "cells": [
  {
   "cell_type": "markdown",
   "metadata": {},
   "source": [
    "# Tutorial 1: MCP Fundamentals\n",
    "\n",
    "## Introduction\n",
    "\n",
    "The Model Context Protocol (MCP) is an emerging open standard designed to enable seamless integration between Large Language Models (LLMs) and external tools, data sources, and services. Think of MCP as \"USB-C for AI\" - providing a standardized way for AI systems to discover, connect to, and interact with various capabilities."
   ]
  },
  {
   "cell_type": "markdown",
   "metadata": {},
   "source": [
    "## Core Concepts\n",
    "\n",
    "### The Client-Server Architecture\n",
    "\n",
    "MCP follows a client-server model where:\n",
    "\n",
    "- **MCP Server**: Exposes tools and resources (functions, data access, etc.)\n",
    "- **MCP Client**: Discovers and invokes server capabilities (often integrated with LLMs)\n",
    "- **Protocol**: Standard communication format over JSON-RPC 2.0\n",
    "\n",
    "```mermaid\n",
    "graph LR\n",
    "    A[MCP Client<br/>LLM App] <-->|MCP Protocol<br/>JSON-RPC 2.0| B[MCP Server<br/>Tools & Resources]\n",
    "```"
   ]
  },
  {
   "cell_type": "markdown",
   "metadata": {},
   "source": [
    "### Key Components\n",
    "\n",
    "```mermaid\n",
    "graph TD\n",
    "    A[MCP Server] --> B[Tools]\n",
    "    A --> C[Resources]\n",
    "    A --> D[Prompts]\n",
    "    B --> E[Function Calls]\n",
    "    C --> F[Data Access]\n",
    "    D --> G[Template Interactions]\n",
    "```\n",
    "\n",
    "1. **Tools**: Functions that the server exposes for the client to call\n",
    "2. **Resources**: Data or content that the server can provide\n",
    "3. **Prompts**: Template-based interactions for common workflows"
   ]
  },
  {
   "cell_type": "markdown",
   "metadata": {},
   "source": [
    "## Exercise 1: Understanding MCP Messages\n",
    "\n",
    "Let's examine what MCP communication looks like at the protocol level by exploring JSON-RPC message structures.\n",
    "\n",
    "### 🎯 Task: Complete the message structure implementation\n",
    "\n",
    "**File to edit:** `workshop/examples/01_message_structure.py`\n",
    "\n",
    "Complete the TODOs in the file to implement proper MCP message structures."
   ]
  },
  {
   "cell_type": "code",
   "execution_count": null,
   "metadata": {},
   "outputs": [],
   "source": [
    "# Let's examine the basic structure first\n",
    "import sys\n",
    "import os\n",
    "import json\n",
    "\n",
    "# Add workshop directory to path\n",
    "workshop_path = os.path.join(os.getcwd(), '..', 'workshop', 'examples')\n",
    "sys.path.append(workshop_path)\n",
    "\n",
    "# Import and test the basic discovery request (already complete)\n",
    "try:\n",
    "    from workshop.examples.message_structure_01 import create_tool_discovery_request\n",
    "    \n",
    "    print(\"MCP Tool Discovery Request:\")\n",
    "    request = create_tool_discovery_request()\n",
    "    print(json.dumps(request, indent=2))\nexcept ImportError:\n",
    "    print(\"Please complete the workshop file first: workshop/examples/01_message_structure.py\")"
   ]
  },
  {
   "cell_type": "code",
   "execution_count": null,
   "metadata": {},
   "outputs": [],
   "source": [
    "# Test your implementation after completing the TODOs\n",
    "# Run this cell after you've completed the workshop file\n",
    "\n",
    "try:\n",
    "    from workshop.examples.message_structure_01 import test_message_structures\n",
    "    test_message_structures()\nexcept ImportError:\n",
    "    print(\"Please complete all TODOs in workshop/examples/01_message_structure.py first\")\nexcept Exception as e:\n",
    "    print(f\"Error: {e}\")\n",
    "    print(\"Check your implementation and ensure all functions are complete\")"
   ]
  },
  {
   "cell_type": "markdown",
   "metadata": {},
   "source": [
    "## Exercise 2: Build Your First MCP Server\n",
    "\n",
    "Now let's create a simple MCP server using FastMCP.\n",
    "\n",
    "### 🎯 Task: Complete the math server implementation\n",
    "\n",
    "**File to edit:** `workshop/examples/02_math_server.py`\n",
    "\n",
    "Complete the TODOs to add missing operations and error handling."
   ]
  },
  {
   "cell_type": "code",
   "execution_count": null,
   "metadata": {},
   "outputs": [],
   "source": [
    "# Let's examine the existing server structure\n",
    "try:\n",
    "    from workshop.examples.math_server_02 import mcp, add_numbers, multiply_numbers\n",
    "    \n",
    "    print(f\"Server '{mcp.name}' currently has {len(mcp.list_tools())} tools:\")\n",
    "    for tool in mcp.list_tools():\n",
    "        print(f\"  - {tool.name}: {tool.description}\")\n",
    "    \n",
    "    # Test existing functions\n",
    "    print(f\"\\nTesting existing functions:\")\n",
    "    print(f\"5 + 3 = {add_numbers(5.0, 3.0)}\")\n",
    "    print(f\"4 * 7 = {multiply_numbers(4.0, 7.0)}\")\n",
    "    \nexcept ImportError as e:\n",
    "    print(f\"Import error: {e}\")\n",
    "    print(\"Make sure workshop/examples/02_math_server.py exists and is valid\")"
   ]
  },
  {
   "cell_type": "code",
   "execution_count": null,
   "metadata": {},
   "outputs": [],
   "source": [
    "# Test your completed implementation\n",
    "# Run this after completing the TODOs\n",
    "\n",
    "try:\n",
    "    from workshop.examples.math_server_02 import test_server\n",
    "    test_server()\nexcept ImportError:\n",
    "    print(\"Please complete all TODOs in workshop/examples/02_math_server.py first\")\nexcept Exception as e:\n",
    "    print(f\"Error testing server: {e}\")\n",
    "    print(\"Check your implementation for any issues\")"
   ]
  },
  {
   "cell_type": "markdown",
   "metadata": {},
   "source": [
    "## MCP vs Traditional API Integration\n",
    "\n",
    "```mermaid\n",
    "graph TB\n",
    "    subgraph \"Traditional APIs\"\n",
    "        A1[Custom Client 1] --> B1[API 1]\n",
    "        A2[Custom Client 2] --> B2[API 2]\n",
    "        A3[Custom Client 3] --> B3[API 3]\n",
    "    end\n",
    "    \n",
    "    subgraph \"MCP Standard\"\n",
    "        C[Universal MCP Client] --> D[MCP Server 1]\n",
    "        C --> E[MCP Server 2]\n",
    "        C --> F[MCP Server 3]\n",
    "    end\n",
    "```\n",
    "\n",
    "| Aspect | Traditional APIs | MCP |\n",
    "|--------|-----------------|-----|\n",
    "| **Discovery** | Manual documentation | Automatic tool/resource discovery |\n",
    "| **Schema** | Various formats (OpenAPI, etc.) | Standardized JSON-RPC with TypeScript schemas |\n",
    "| **Integration** | Custom client code per API | Universal MCP client |\n",
    "| **LLM Usage** | Manual prompt engineering | Native LLM tool calling support |"
   ]
  },
  {
   "cell_type": "markdown",
   "metadata": {},
   "source": [
    "## Exercise 3: Compare Approaches\n",
    "\n",
    "Let's examine the difference between traditional API integration and MCP-enabled approaches.\n",
    "\n",
    "**Files to examine:**\n",
    "- `solution/examples/traditional_approach.py` - Manual integration\n",
    "- `solution/examples/mcp_approach.py` - MCP-enabled approach"
   ]
  },
  {
   "cell_type": "code",
   "execution_count": null,
   "metadata": {},
   "outputs": [],
   "source": [
    "# Let's look at the solution files to understand the differences\n",
    "import os\n",
    "\n",
    "solution_path = os.path.join(os.getcwd(), '..', 'solution', 'examples')\n",
    "\n",
    "# Check if example files exist\n",
    "traditional_file = os.path.join(solution_path, 'traditional_approach.py')\n",
    "mcp_file = os.path.join(solution_path, 'mcp_approach.py')\n",
    "\n",
    "if os.path.exists(traditional_file):\n",
    "    print(\"✓ Traditional approach example available\")\nelse:\n",
    "    print(\"⚠ Traditional approach example not yet created\")\n",
    "\n",
    "if os.path.exists(mcp_file):\n",
    "    print(\"✓ MCP approach example available\")\nelse:\n",
    "    print(\"⚠ MCP approach example not yet created\")\n",
    "\n",
    "print(\"\\nThese files will demonstrate the key differences in approach.\")"
   ]
  },
  {
   "cell_type": "markdown",
   "metadata": {},
   "source": [
    "## Key Takeaways\n",
    "\n",
    "1. **Standardization**: MCP provides a universal protocol for LLM-tool integration\n",
    "2. **Discovery**: Tools and resources are automatically discoverable\n",
    "3. **Composability**: LLMs can chain multiple tools autonomously\n",
    "4. **Type Safety**: Built-in schema validation and type checking\n",
    "5. **Modularity**: Servers can be developed and deployed independently"
   ]
  },
  {
   "cell_type": "markdown",
   "metadata": {},
   "source": [
    "## Workshop Completion Checklist\n",
    "\n",
    "- [ ] Completed message structure exercise (`workshop/examples/01_message_structure.py`)\n",
    "- [ ] Implemented division and power operations with error handling (`workshop/examples/02_math_server.py`)\n",
    "- [ ] Successfully tested all math operations\n",
    "- [ ] Reviewed traditional vs MCP comparison examples\n",
    "- [ ] Ready to move to Wikipedia server tutorial\n",
    "\n",
    "## Next Steps\n",
    "\n",
    "In Tutorial 2, we'll build a Wikipedia search and summarization MCP server, demonstrating real-world tool integration with external APIs."
   ]
  }
 ],
 "metadata": {
  "kernelspec": {
   "display_name": "Python 3",
   "language": "python",
   "name": "python3"
  },
  "language_info": {
   "codemirror_mode": {
    "name": "ipython",
    "version": 3
   },
   "file_extension": ".py",
   "mimetype": "text/x-python",
   "name": "python",
   "nbconvert_exporter": "python",
   "pygments_lexer": "ipython3",
   "version": "3.13.0"
  }
 },
 "nbformat": 4,
 "nbformat_minor": 4
}